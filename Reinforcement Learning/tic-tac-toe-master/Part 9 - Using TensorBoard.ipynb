{
 "cells": [
  {
   "cell_type": "markdown",
   "metadata": {},
   "source": [
    "## TensorBoard support\n",
    "TensorBoard is a dashboard that comes with TensorFlow. It the helps visualizing NN graphs as well as all kinds of metrics around training and performance.\n",
    "\n",
    "So far, the only metric we looked at as the win-loss-draw ratio out NN achieved. By using TensorBoard we might be able to get some additional insights.\n",
    "\n",
    "In order to do this, we need to create a summary writer, write to it, and in the end close it:\n",
    "\n",
    "```Python\n",
    "sess = TFSessionManager.get_session()\n",
    "writer = tf.summary.FileWriter(TENSORLOG_DIR, sess.graph)\n",
    "[...]\n",
    "writer.close()\n",
    "```\n",
    "\n",
    "To capture the actual metrics, we add the approptiate lines when building graph;\n",
    "```Python\n",
    "def build_graph(self, name: str):\n",
    "    \"\"\"\n",
    "    Builds a new TensorFlow graph with scope `name`\n",
    "    :param name: The scope for the graph. Needs to be unique for the session.\n",
    "    \"\"\"\n",
    "    with tf.variable_scope(name):\n",
    "        [...]\n",
    "        self.q = tf.reduce_sum(tf.multiply(self.q_values, self.actions_onehot), axis=1, name=\"selected_action_q\")\n",
    "\n",
    "        tf.summary.histogram(\"Action Q values\", self.q)\n",
    "\n",
    "        [...]\n",
    "        self.loss = tf.reduce_mean(self.td_error, name=\"q_loss\")\n",
    "\n",
    "        tf.summary.scalar(\"Q Loss\", self.loss)\n",
    "        [...]\n",
    "        reg_loss = self.beta * tf.reduce_mean(self.reg_losses)\n",
    "        tf.summary.scalar(\"Regularization loss\", reg_loss)\n",
    "\n",
    "        self.merge = tf.summary.merge_all()\n",
    "\n",
    "        [...]\n",
    "\n",
    "```\n",
    "\n",
    "This creates a Tensor `self.merge` which we can run with the training step:\n",
    "\n",
    "```Python\n",
    "def final_result(self, result: GameResult):\n",
    "    [...]\n",
    "    \n",
    "    summary, _ = TFSN.get_session().run([self.q_net.merge, self.q_net.train_step], feed_dict=[...])\n",
    "    \n",
    "    [...]\n",
    "    \n",
    "    if self.writer is not None:\n",
    "        self.writer.add_summary(summary, self.game_counter)\n",
    "        summary = tf.Summary(value=[tf.Summary.Value(tag='Random Move Probability',\n",
    "                                                     simple_value=self.random_move_prob)])\n",
    "        self.writer.add_summary(summary, self.game_counter)\n",
    "```"
   ]
  },
  {
   "cell_type": "markdown",
   "metadata": {},
   "source": []
  }
 ],
 "metadata": {
  "kernelspec": {
   "display_name": "Python 3",
   "language": "python",
   "name": "python3"
  },
  "language_info": {
   "codemirror_mode": {
    "name": "ipython",
    "version": 3
   },
   "file_extension": ".py",
   "mimetype": "text/x-python",
   "name": "python",
   "nbconvert_exporter": "python",
   "pygments_lexer": "ipython3",
   "version": "3.6.5"
  }
 },
 "nbformat": 4,
 "nbformat_minor": 2
}
