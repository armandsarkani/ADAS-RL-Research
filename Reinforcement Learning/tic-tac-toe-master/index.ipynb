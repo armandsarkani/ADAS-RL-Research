{
 "cells": [
  {
   "cell_type": "markdown",
   "metadata": {},
   "source": [
    "# Teaching a computer how to play Tic Tac Toe -  A Trip Report\n",
    "\n",
    "\n",
    "\n",
    "## From classic algorithms to Reinforcement learning with Neural Networks\n",
    "\n",
    "In this series of articles and [Jupyter](http://jupyter.org/) notebooks we will explore a number of different approaches, from the Min Max algorithm to Neural Networks, with the aim of teaching / training a computer how to play the well known board game [Tic Tac Toe](https://en.wikipedia.org/wiki/Tic-tac-toe).\n",
    "\n",
    "This is not a set of tutorials by an expert in the field who is sharing his knowledge with the world. This is more of a trip report by someone who is trying to learn some new skills, namely Reinforcement Learning and Neural Networks.\n",
    "\n",
    "Not everything we will try in this series will work very well; and often the reasons why something worked or didn’t work ultimately will remain unclear. I still hope the articles are informative, may provide some insights, and in the end will help you with getting a deeper understanding of Reinforcement Learning and Neural Networks — how to use them as well as the challenges you may encounter when trying to do so.\n",
    "\n",
    "***\n",
    "\n",
    "Most people will be familiar with [Tic Tac Toe](https://en.wikipedia.org/wiki/Tic-tac-toe) and more than likely you will have played it at some stage of your life.\n",
    "The game is rather simple. With respect to its rules as well as its strategy. In fact, it can be played by young children and Tic Tac Toe boards can often be found at playgrounds:\n",
    "\n",
    "![Title](./Images/tic-tac-toe-355090_640.jpg)\n",
    "\n",
    "[Source](https://pixabay.com/en/tic-tac-toe-game-tick-tack-toe-355090)\n",
    "\n",
    "\n",
    "If you have played Tic Tac Toe a couple of times you will have quickly realised that it is quite easy to master. You will most likely also have discovered that when both players play good moves, the game will always end in a draw.\n",
    "\n",
    "In the following, we will use the example of Tic Tac Toe to look at various approaches which can be used to teach or train a computer to play this game. Not because Tic Tac Toe is particularly challenging, but because it gives us a consistent, easy to understand target.\n",
    "\n",
    "We will look at the classic Min Max algorithm, a Tabular Reinforcement Learning approach as well as a couple of Neural Network based Reinforcement Learning approaches:\n",
    "    \n",
    "* [Part 1 - Computer Tic Tac Toe Basics](./Part%201%20-%20Computer%20Tic%20Tac%20Toe%20Basics.ipynb)\n",
    "* [Part 2 - The Min Max Algorithm](./Part%202%20-%20The%20Min%20Max%20Algorithm.ipynb) \n",
    "* [Part 3 - Tabular Q-Learning](./Part%203%20-%20Tabular%20Q-Learning.ipynb)\n",
    "* [Part 4 - Neural Network Q-Learning](./Part%204%20-%20Neural%20Network%20Q-Learning.ipynb)\n",
    "* [Part 5 - Q Network review and becoming less greedy](./Part%205%20-%20Q%20Network%20review%20and%20becoming%20less%20greedy.ipynb)\n",
    "* [Part 6 - Double Duelling Q Network with Experience Replay](./Part%206%20-%20Double%20Duelling%20Q%20Network%20with%20Experience%20Replay.ipynb)\n",
    "* [Part 7 - This is deep. In a convoluted way](./Part%207%20-%20This%20is%20deep.%20In%20a%20convoluted%20way.ipynb)\n",
    "* [Part 8 - Tic Tac Toe with Policy Gradient Descent](./Part%208%20-%20Tic%20Tac%20Toe%20with%20Policy%20Gradient%C2%A0Descent.ipynb)\n",
    "\n",
    "The source code and Jupyter notebooks for this series are available at [GitHub](https://github.com/fcarsten/tic-tac-toe).\n",
    "\n",
    "You can also run the notebooks online via [Binder](https://mybinder.org/v2/gh/fcarsten/tic-tac-toe/master)\n"
   ]
  }
 ],
 "metadata": {
  "kernelspec": {
   "display_name": "Python 3",
   "language": "python",
   "name": "python3"
  },
  "language_info": {
   "codemirror_mode": {
    "name": "ipython",
    "version": 3
   },
   "file_extension": ".py",
   "mimetype": "text/x-python",
   "name": "python",
   "nbconvert_exporter": "python",
   "pygments_lexer": "ipython3",
   "version": "3.6.6"
  }
 },
 "nbformat": 4,
 "nbformat_minor": 2
}
