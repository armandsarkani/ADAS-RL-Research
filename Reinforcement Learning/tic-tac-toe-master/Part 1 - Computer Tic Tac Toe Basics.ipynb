{
 "cells": [
  {
   "cell_type": "markdown",
   "metadata": {},
   "source": [
    "# Basic Tic Tac Toe support classes and game logic"
   ]
  },
  {
   "cell_type": "markdown",
   "metadata": {},
   "source": [
    "In the first part of this series, we will introduce the basic framework and helper classes that we will use throughout. We will also create the first computer player.\n",
    "\n",
    "---\n",
    "\n",
    "## Let's get started:\n",
    "\n",
    "We will use the following classes which are defined in [Board.py](https://github.com/fcarsten/tic-tac-toe/blob/master/tic_tac_toe/Board.py):\n",
    "\n",
    "* `Board`: Contains all the Tic Tac Toe board state management plus some utility methods\n",
    "* `GameResult`: Enum of all the possible game states. A game can be either `NOT_FINISHED`, `DRAW`, `CROSS_WIN`, or `NAUGT_WIN`\n",
    "* `CROSS`, `NAUGHT`: Will tell our players what side they play, as well as indicate what pieces are on each square of the board - which can also be `EMPTY`. \n",
    "\n",
    "We also define a utility method `print_board` that prints a board state pretty in HTML:"
   ]
  },
  {
   "cell_type": "code",
   "execution_count": 1,
   "metadata": {},
   "outputs": [],
   "source": [
    "from IPython.display import HTML, display\n",
    "from tic_tac_toe.Board import Board, GameResult, CROSS, NAUGHT\n",
    "\n",
    "\n",
    "def print_board(board):\n",
    "    display(HTML(\"\"\"\n",
    "    <style>\n",
    "    .rendered_html table, .rendered_html th, .rendered_html tr, .rendered_html td {\n",
    "      border: 1px  black solid !important;\n",
    "      color: black !important;\n",
    "    }\n",
    "    </style>\n",
    "    \"\"\"+board.html_str()))"
   ]
  },
  {
   "cell_type": "markdown",
   "metadata": {},
   "source": [
    "We can now create a new board and print it in all its empty glory:"
   ]
  },
  {
   "cell_type": "code",
   "execution_count": 2,
   "metadata": {},
   "outputs": [
    {
     "data": {
      "text/html": [
       "\n",
       "    <style>\n",
       "    .rendered_html table, .rendered_html th, .rendered_html tr, .rendered_html td {\n",
       "      border: 1px  black solid !important;\n",
       "      color: black !important;\n",
       "    }\n",
       "    </style>\n",
       "    <table border=\"1\"><tr><td>&ensp;</td><td>&ensp;</td><td>&ensp;</td></tr><tr><td>&ensp;</td><td>&ensp;</td><td>&ensp;</td></tr><tr><td>&ensp;</td><td>&ensp;</td><td>&ensp;</td></tr></table>"
      ],
      "text/plain": [
       "<IPython.core.display.HTML object>"
      ]
     },
     "metadata": {},
     "output_type": "display_data"
    }
   ],
   "source": [
    "board = Board()\n",
    "print_board(board)"
   ]
  },
  {
   "cell_type": "markdown",
   "metadata": {},
   "source": [
    "Time to make a move. We use the methods `random_empty_spot` and `move` to find a random empty spot on the board and put a `CROSS` there. We then print the board to confirm:"
   ]
  },
  {
   "cell_type": "code",
   "execution_count": 3,
   "metadata": {},
   "outputs": [
    {
     "data": {
      "text/html": [
       "\n",
       "    <style>\n",
       "    .rendered_html table, .rendered_html th, .rendered_html tr, .rendered_html td {\n",
       "      border: 1px  black solid !important;\n",
       "      color: black !important;\n",
       "    }\n",
       "    </style>\n",
       "    <table border=\"1\"><tr><td>&ensp;</td><td>&ensp;</td><td>&ensp;</td></tr><tr><td>x</td><td>&ensp;</td><td>&ensp;</td></tr><tr><td>&ensp;</td><td>&ensp;</td><td>&ensp;</td></tr></table>"
      ],
      "text/plain": [
       "<IPython.core.display.HTML object>"
      ]
     },
     "metadata": {},
     "output_type": "display_data"
    }
   ],
   "source": [
    "board.move(board.random_empty_spot(), CROSS)\n",
    "print_board(board)"
   ]
  },
  {
   "cell_type": "markdown",
   "metadata": {},
   "source": [
    "Let's extend that to play a whole game. \n",
    "\n",
    "We reset the board state and play alternating CROSS and NAUGHT until the game is either won by one side or a draw. We print the board after each move. After the game has finished print out who won."
   ]
  },
  {
   "cell_type": "code",
   "execution_count": 4,
   "metadata": {},
   "outputs": [
    {
     "data": {
      "text/html": [
       "\n",
       "    <style>\n",
       "    .rendered_html table, .rendered_html th, .rendered_html tr, .rendered_html td {\n",
       "      border: 1px  black solid !important;\n",
       "      color: black !important;\n",
       "    }\n",
       "    </style>\n",
       "    <table border=\"1\"><tr><td>&ensp;</td><td>&ensp;</td><td>x</td></tr><tr><td>&ensp;</td><td>&ensp;</td><td>&ensp;</td></tr><tr><td>&ensp;</td><td>&ensp;</td><td>&ensp;</td></tr></table>"
      ],
      "text/plain": [
       "<IPython.core.display.HTML object>"
      ]
     },
     "metadata": {},
     "output_type": "display_data"
    },
    {
     "data": {
      "text/html": [
       "\n",
       "    <style>\n",
       "    .rendered_html table, .rendered_html th, .rendered_html tr, .rendered_html td {\n",
       "      border: 1px  black solid !important;\n",
       "      color: black !important;\n",
       "    }\n",
       "    </style>\n",
       "    <table border=\"1\"><tr><td>&ensp;</td><td>o</td><td>x</td></tr><tr><td>&ensp;</td><td>&ensp;</td><td>&ensp;</td></tr><tr><td>&ensp;</td><td>&ensp;</td><td>&ensp;</td></tr></table>"
      ],
      "text/plain": [
       "<IPython.core.display.HTML object>"
      ]
     },
     "metadata": {},
     "output_type": "display_data"
    },
    {
     "data": {
      "text/html": [
       "\n",
       "    <style>\n",
       "    .rendered_html table, .rendered_html th, .rendered_html tr, .rendered_html td {\n",
       "      border: 1px  black solid !important;\n",
       "      color: black !important;\n",
       "    }\n",
       "    </style>\n",
       "    <table border=\"1\"><tr><td>&ensp;</td><td>o</td><td>x</td></tr><tr><td>x</td><td>&ensp;</td><td>&ensp;</td></tr><tr><td>&ensp;</td><td>&ensp;</td><td>&ensp;</td></tr></table>"
      ],
      "text/plain": [
       "<IPython.core.display.HTML object>"
      ]
     },
     "metadata": {},
     "output_type": "display_data"
    },
    {
     "data": {
      "text/html": [
       "\n",
       "    <style>\n",
       "    .rendered_html table, .rendered_html th, .rendered_html tr, .rendered_html td {\n",
       "      border: 1px  black solid !important;\n",
       "      color: black !important;\n",
       "    }\n",
       "    </style>\n",
       "    <table border=\"1\"><tr><td>&ensp;</td><td>o</td><td>x</td></tr><tr><td>x</td><td>o</td><td>&ensp;</td></tr><tr><td>&ensp;</td><td>&ensp;</td><td>&ensp;</td></tr></table>"
      ],
      "text/plain": [
       "<IPython.core.display.HTML object>"
      ]
     },
     "metadata": {},
     "output_type": "display_data"
    },
    {
     "data": {
      "text/html": [
       "\n",
       "    <style>\n",
       "    .rendered_html table, .rendered_html th, .rendered_html tr, .rendered_html td {\n",
       "      border: 1px  black solid !important;\n",
       "      color: black !important;\n",
       "    }\n",
       "    </style>\n",
       "    <table border=\"1\"><tr><td>&ensp;</td><td>o</td><td>x</td></tr><tr><td>x</td><td>o</td><td>x</td></tr><tr><td>&ensp;</td><td>&ensp;</td><td>&ensp;</td></tr></table>"
      ],
      "text/plain": [
       "<IPython.core.display.HTML object>"
      ]
     },
     "metadata": {},
     "output_type": "display_data"
    },
    {
     "data": {
      "text/html": [
       "\n",
       "    <style>\n",
       "    .rendered_html table, .rendered_html th, .rendered_html tr, .rendered_html td {\n",
       "      border: 1px  black solid !important;\n",
       "      color: black !important;\n",
       "    }\n",
       "    </style>\n",
       "    <table border=\"1\"><tr><td>o</td><td>o</td><td>x</td></tr><tr><td>x</td><td>o</td><td>x</td></tr><tr><td>&ensp;</td><td>&ensp;</td><td>&ensp;</td></tr></table>"
      ],
      "text/plain": [
       "<IPython.core.display.HTML object>"
      ]
     },
     "metadata": {},
     "output_type": "display_data"
    },
    {
     "data": {
      "text/html": [
       "\n",
       "    <style>\n",
       "    .rendered_html table, .rendered_html th, .rendered_html tr, .rendered_html td {\n",
       "      border: 1px  black solid !important;\n",
       "      color: black !important;\n",
       "    }\n",
       "    </style>\n",
       "    <table border=\"1\"><tr><td>o</td><td>o</td><td>x</td></tr><tr><td>x</td><td>o</td><td>x</td></tr><tr><td>x</td><td>&ensp;</td><td>&ensp;</td></tr></table>"
      ],
      "text/plain": [
       "<IPython.core.display.HTML object>"
      ]
     },
     "metadata": {},
     "output_type": "display_data"
    },
    {
     "data": {
      "text/html": [
       "\n",
       "    <style>\n",
       "    .rendered_html table, .rendered_html th, .rendered_html tr, .rendered_html td {\n",
       "      border: 1px  black solid !important;\n",
       "      color: black !important;\n",
       "    }\n",
       "    </style>\n",
       "    <table border=\"1\"><tr><td>o</td><td>o</td><td>x</td></tr><tr><td>x</td><td>o</td><td>x</td></tr><tr><td>x</td><td>&ensp;</td><td>o</td></tr></table>"
      ],
      "text/plain": [
       "<IPython.core.display.HTML object>"
      ]
     },
     "metadata": {},
     "output_type": "display_data"
    },
    {
     "name": "stdout",
     "output_type": "stream",
     "text": [
      "Naught won!\n"
     ]
    }
   ],
   "source": [
    "board.reset()\n",
    "finished = False\n",
    "while not finished:\n",
    "   _, result, finished = board.move(board.random_empty_spot(), CROSS)\n",
    "   print_board(board)\n",
    "   if finished:\n",
    "       if result == GameResult.DRAW:\n",
    "           print(\"Game is a draw\")\n",
    "       else:\n",
    "           print(\"Cross won!\")\n",
    "   else:\n",
    "       _, result, finished = board.move(board.random_empty_spot(), NAUGHT)\n",
    "       print_board(board)\n",
    "       if finished:\n",
    "            if result == GameResult.DRAW:\n",
    "               print(\"Game is a draw\")\n",
    "            else:\n",
    "               print(\"Naught won!\")"
   ]
  },
  {
   "cell_type": "markdown",
   "metadata": {},
   "source": [
    "let's wrap this code in a utility function called `play_game`. It takes a board and 2 players and plays a complete game. It returns the result of the game at the end. We will use this going forward to evaluate our computer players:"
   ]
  },
  {
   "cell_type": "code",
   "execution_count": 5,
   "metadata": {},
   "outputs": [],
   "source": [
    "from tic_tac_toe.Player import Player\n",
    "\n",
    "\n",
    "def play_game(board: Board, player1: Player, player2: Player):\n",
    "    player1.new_game(CROSS)\n",
    "    player2.new_game(NAUGHT)\n",
    "    board.reset()\n",
    "    \n",
    "    finished = False\n",
    "    while not finished:\n",
    "        result, finished = player1.move(board)\n",
    "        if finished:\n",
    "            if result == GameResult.DRAW:\n",
    "                final_result = GameResult.DRAW\n",
    "            else:\n",
    "                final_result =  GameResult.CROSS_WIN\n",
    "        else:\n",
    "            result, finished = player2.move(board)\n",
    "            if finished:\n",
    "                if result == GameResult.DRAW:\n",
    "                    final_result =  GameResult.DRAW\n",
    "                else:\n",
    "                    final_result =  GameResult.NAUGHT_WIN\n",
    "        \n",
    "    player1.final_result(final_result)\n",
    "    player2.final_result(final_result)\n",
    "    return final_result\n"
   ]
  },
  {
   "cell_type": "markdown",
   "metadata": {},
   "source": [
    "---\n",
    "\n",
    "# The RandomPlayer\n",
    "\n",
    "Time to introduce our first contender, the [`RandomPlayer`](https://github.com/fcarsten/tic-tac-toe/blob/master/tic_tac_toe/RandomPlayer.py). It looks for a random empty spot on the board and puts its piece there - pretty much the same way as we just did above; just wrapped into a class.\n",
    "\n",
    "Let's import it, create 2 instances and let them play a game:"
   ]
  },
  {
   "cell_type": "code",
   "execution_count": 6,
   "metadata": {},
   "outputs": [
    {
     "data": {
      "text/html": [
       "\n",
       "    <style>\n",
       "    .rendered_html table, .rendered_html th, .rendered_html tr, .rendered_html td {\n",
       "      border: 1px  black solid !important;\n",
       "      color: black !important;\n",
       "    }\n",
       "    </style>\n",
       "    <table border=\"1\"><tr><td>o</td><td>&ensp;</td><td>x</td></tr><tr><td>o</td><td>x</td><td>&ensp;</td></tr><tr><td>x</td><td>&ensp;</td><td>&ensp;</td></tr></table>"
      ],
      "text/plain": [
       "<IPython.core.display.HTML object>"
      ]
     },
     "metadata": {},
     "output_type": "display_data"
    },
    {
     "name": "stdout",
     "output_type": "stream",
     "text": [
      "Cross won\n"
     ]
    }
   ],
   "source": [
    "from tic_tac_toe.RandomPlayer import RandomPlayer\n",
    "\n",
    "player1 = RandomPlayer()\n",
    "player2 = RandomPlayer()\n",
    "result = play_game(board, player1, player2)\n",
    "print_board(board)\n",
    "if result == GameResult.CROSS_WIN:\n",
    "    print(\"Cross won\")\n",
    "elif result == GameResult.NAUGHT_WIN:\n",
    "    print(\"Naught won\")\n",
    "else:\n",
    "    print(\"Draw\")"
   ]
  },
  {
   "cell_type": "markdown",
   "metadata": {},
   "source": [
    "---\n",
    "\n",
    "# Establishing some ground truth.\n",
    "\n",
    "Using the code we introduced above we can now establish some ground truth: If we let 2 random players play against each other a large enough number of times, how many games do we expect to be won by `NAUGHT`, how many by `CROSS`, and how many do we expect to end in a draw?\n",
    "\n",
    "Going forward, building more intelligent players, we can then measure how much better they play compared to a random player."
   ]
  },
  {
   "cell_type": "code",
   "execution_count": 7,
   "metadata": {},
   "outputs": [
    {
     "name": "stdout",
     "output_type": "stream",
     "text": [
      "After 100000 game we have draws: 12827, cross wins: 58313, and naught wins: 28860.\n",
      "Which gives percentages of draws : cross : naught of about 12.83% : 58.31% : 28.86%\n"
     ]
    }
   ],
   "source": [
    "num_games = 100000\n",
    "\n",
    "draw_count = 0\n",
    "cross_count = 0\n",
    "naught_count = 0\n",
    "\n",
    "p1 = RandomPlayer()\n",
    "p2 = RandomPlayer()\n",
    "\n",
    "for _ in range(num_games):\n",
    "    result = play_game(board, p1, p2)\n",
    "    if result == GameResult.CROSS_WIN:\n",
    "        cross_count += 1\n",
    "    elif result == GameResult.NAUGHT_WIN:\n",
    "        naught_count += 1\n",
    "    else:\n",
    "        draw_count += 1\n",
    "        \n",
    "print(\"After {} game we have draws: {}, cross wins: {}, and naught wins: {}.\".format(num_games, draw_count, \n",
    "                                                                        cross_count, naught_count))\n",
    "\n",
    "print(\"Which gives percentages of draws : cross : naught of about {:.2%} : {:.2%} : {:.2%}\".format(\n",
    "    draw_count / num_games, cross_count / num_games, naught_count / num_games))"
   ]
  },
  {
   "cell_type": "markdown",
   "metadata": {},
   "source": [
    "---\n",
    "\n",
    "## Established Baseline\n",
    "\n",
    "In addition to the statistics computed above, we also know that if both players always make the best possible move, a game of Tic Tac Toe will always end in a draw. The gives us the following baseline:\n",
    "\n",
    "| Player | P1 Win | P2 Win | Draw |\n",
    "| --- | ---| --- | --- |\n",
    "| Perfect | 0%     | 0%     | 100% |\n",
    "| Random  | 58%    | 29% | 13% |\n",
    "\n",
    "In the following parts we will aim to create players that play perfectly. Where we don't quite achieve that, we will still be able to at least measure how better than the `RandomPlayer` our player is."
   ]
  },
  {
   "cell_type": "markdown",
   "metadata": {},
   "source": []
  }
 ],
 "metadata": {
  "kernelspec": {
   "display_name": "Python 3",
   "language": "python",
   "name": "python3"
  },
  "language_info": {
   "codemirror_mode": {
    "name": "ipython",
    "version": 3
   },
   "file_extension": ".py",
   "mimetype": "text/x-python",
   "name": "python",
   "nbconvert_exporter": "python",
   "pygments_lexer": "ipython3",
   "version": "3.6.6"
  }
 },
 "nbformat": 4,
 "nbformat_minor": 1
}
